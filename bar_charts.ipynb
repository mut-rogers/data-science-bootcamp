{
 "cells": [
  {
   "cell_type": "code",
   "execution_count": 1,
   "metadata": {},
   "outputs": [
    {
     "name": "stderr",
     "output_type": "stream",
     "text": [
      "C:\\Users\\lenovo\\AppData\\Local\\Temp\\ipykernel_9100\\1888909815.py:3: DeprecationWarning: \n",
      "Pyarrow will become a required dependency of pandas in the next major release of pandas (pandas 3.0),\n",
      "(to allow more performant data types, such as the Arrow string type, and better interoperability with other libraries)\n",
      "but was not found to be installed on your system.\n",
      "If this would cause problems for you,\n",
      "please provide us feedback at https://github.com/pandas-dev/pandas/issues/54466\n",
      "        \n",
      "  import pandas as pd\n"
     ]
    }
   ],
   "source": [
    "from matplotlib import pyplot as plt\n",
    "from typing import List, Tuple\n",
    "import pandas as pd \n",
    "import numpy as np"
   ]
  },
  {
   "cell_type": "code",
   "execution_count": 2,
   "metadata": {},
   "outputs": [],
   "source": [
    "movies: List = [\"Criminal Code\", \"Blacklist\", \"Prison Break\", \"Money Heist\", \"Game of Thrones\"]\n",
    "num_oscars: List = [12, 8, 11, 6, 10]\n",
    "Vector = List[float]"
   ]
  },
  {
   "cell_type": "code",
   "execution_count": 3,
   "metadata": {},
   "outputs": [],
   "source": [
    "# Multiplying a Vector with a scala\n",
    "def scalar_multiply(scalar: float, v: Vector) -> Vector:\n",
    "    return [item * scalar for item in v]\n",
    "\n",
    "assert scalar_multiply(10, num_oscars) == [120, 80, 110, 60, 100]"
   ]
  },
  {
   "cell_type": "code",
   "execution_count": 4,
   "metadata": {},
   "outputs": [],
   "source": [
    "# Matrices\n",
    "Matrix = List[List[float]] # A matrix is basically a list of list\n",
    "\n",
    "sample = [[10, 20, 30, 40], [5, 15, 25, 35]]\n",
    "\n",
    "# Getting the shape of the Matrix \n",
    "def shape(A: Matrix) -> Tuple:\n",
    "    num_rows = len(A)\n",
    "    num_cols = len(A[0])\n",
    "    return num_rows, num_cols\n",
    "\n",
    "assert shape(sample) == (2, 4)"
   ]
  },
  {
   "cell_type": "code",
   "execution_count": null,
   "metadata": {},
   "outputs": [],
   "source": []
  }
 ],
 "metadata": {
  "kernelspec": {
   "display_name": "env",
   "language": "python",
   "name": "python3"
  },
  "language_info": {
   "codemirror_mode": {
    "name": "ipython",
    "version": 3
   },
   "file_extension": ".py",
   "mimetype": "text/x-python",
   "name": "python",
   "nbconvert_exporter": "python",
   "pygments_lexer": "ipython3",
   "version": "3.11.2"
  }
 },
 "nbformat": 4,
 "nbformat_minor": 2
}
