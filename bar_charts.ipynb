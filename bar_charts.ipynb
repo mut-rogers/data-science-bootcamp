{
 "cells": [
  {
   "cell_type": "code",
   "execution_count": 13,
   "metadata": {},
   "outputs": [],
   "source": [
    "from matplotlib import pyplot as plt\n",
    "from typing import List"
   ]
  },
  {
   "cell_type": "code",
   "execution_count": 14,
   "metadata": {},
   "outputs": [],
   "source": [
    "movies: List = [\"Criminal Code\", \"Blacklist\", \"Prison Break\", \"Money Heist\", \"Game of Thrones\"]\n",
    "num_oscars: List = [12, 8, 11, 6, 10]\n",
    "Vector = List[float]"
   ]
  },
  {
   "cell_type": "code",
   "execution_count": 20,
   "metadata": {},
   "outputs": [],
   "source": [
    "# Multiplying a Vector with a scala\n",
    "def scalar_multiply(scalar: float, v: Vector) -> Vector:\n",
    "    return [item * scalar for item in v]\n",
    "\n",
    "assert scalar_multiply(10, num_oscars) == [120, 80, 110, 60, 100]"
   ]
  }
 ],
 "metadata": {
  "kernelspec": {
   "display_name": "env",
   "language": "python",
   "name": "python3"
  },
  "language_info": {
   "codemirror_mode": {
    "name": "ipython",
    "version": 3
   },
   "file_extension": ".py",
   "mimetype": "text/x-python",
   "name": "python",
   "nbconvert_exporter": "python",
   "pygments_lexer": "ipython3",
   "version": "3.11.2"
  }
 },
 "nbformat": 4,
 "nbformat_minor": 2
}
