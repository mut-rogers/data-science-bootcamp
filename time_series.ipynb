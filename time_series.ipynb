{
 "cells": [
  {
   "cell_type": "code",
   "execution_count": 1,
   "metadata": {},
   "outputs": [
    {
     "name": "stderr",
     "output_type": "stream",
     "text": [
      "C:\\Users\\lenovo\\AppData\\Local\\Temp\\ipykernel_10192\\479510806.py:2: DeprecationWarning: \n",
      "Pyarrow will become a required dependency of pandas in the next major release of pandas (pandas 3.0),\n",
      "(to allow more performant data types, such as the Arrow string type, and better interoperability with other libraries)\n",
      "but was not found to be installed on your system.\n",
      "If this would cause problems for you,\n",
      "please provide us feedback at https://github.com/pandas-dev/pandas/issues/54466\n",
      "        \n",
      "  import pandas as pd\n"
     ]
    }
   ],
   "source": [
    "import numpy as np \n",
    "import pandas as pd \n",
    "import matplotlib.pyplot as plt \n",
    "import seaborn as sns"
   ]
  },
  {
   "cell_type": "markdown",
   "metadata": {},
   "source": [
    "## Time Series \n",
    "####  - Time Series may refer to anything that is observed or measured at many points in time.\n",
    "####  - Python provides different libraries for working with dates and time as illustrated below"
   ]
  },
  {
   "cell_type": "code",
   "execution_count": 2,
   "metadata": {},
   "outputs": [
    {
     "data": {
      "text/plain": [
       "datetime.time(21, 35, 57, 113447)"
      ]
     },
     "execution_count": 2,
     "metadata": {},
     "output_type": "execute_result"
    }
   ],
   "source": [
    "from datetime import datetime, timedelta\n",
    "\n",
    "# Reading the current time from the machine \n",
    "now = datetime.now() # datetime.datetime(2024, 4, 17, 21, 39, 24, 951653)\n",
    "\n",
    "# We can access the year like this \n",
    "now.year # 2024 \n",
    "\n",
    "# We can access the month like this \n",
    "now.month # 4 \n",
    "\n",
    "# We can access the day like this \n",
    "now.day # 17\n",
    "\n",
    "# If we want to get the calendar date, that is, YYMMDD \n",
    "now.date() # 2024, 4, 17 \n",
    "\n",
    "# If we want to get the time \n",
    "now.time()"
   ]
  },
  {
   "cell_type": "markdown",
   "metadata": {},
   "source": [
    "### - Incase we want to perform some arithmetics on date, we can use delta"
   ]
  },
  {
   "cell_type": "code",
   "execution_count": 3,
   "metadata": {},
   "outputs": [
    {
     "data": {
      "text/plain": [
       "datetime.timedelta(days=-364)"
      ]
     },
     "execution_count": 3,
     "metadata": {},
     "output_type": "execute_result"
    }
   ],
   "source": [
    "# Substrating two dates \n",
    "alpha = datetime(2023, 1, 1)\n",
    "omega = datetime(2023, 12, 31)\n",
    "\n",
    "delta = alpha - omega \n",
    "delta # 364 days"
   ]
  },
  {
   "cell_type": "code",
   "execution_count": 4,
   "metadata": {},
   "outputs": [
    {
     "data": {
      "text/plain": [
       "datetime.datetime(2023, 1, 11, 0, 0)"
      ]
     },
     "execution_count": 4,
     "metadata": {},
     "output_type": "execute_result"
    }
   ],
   "source": [
    "# We can add or substract a time delta as below \n",
    "start = datetime(2023, 1, 1)\n",
    "\n",
    "# Adding some 10 days\n",
    "stop = start + timedelta(10)\n",
    "\n",
    "stop # datetime.datetime(2023, 1, 11, 0, 0)"
   ]
  },
  {
   "cell_type": "markdown",
   "metadata": {},
   "source": [
    "### Conversion between strings and date\n",
    "####  - Datetime objects or Timestamps in Pandas can be formated as strings using \"str\" or using \"strftime\" method. \n",
    "####  - This is illustrated below"
   ]
  },
  {
   "cell_type": "code",
   "execution_count": 5,
   "metadata": {},
   "outputs": [
    {
     "data": {
      "text/plain": [
       "datetime.datetime(2024, 4, 18, 0, 0)"
      ]
     },
     "execution_count": 5,
     "metadata": {},
     "output_type": "execute_result"
    }
   ],
   "source": [
    "from time import strftime\n",
    "\n",
    "\n",
    "today = datetime.now().date()\n",
    "today # Gives (2024, 4, 17) \n",
    "\n",
    "# Converting the date to str \n",
    "today = str(now) \n",
    "type(now) # Gives \"str\"\n",
    "\n",
    "\n",
    "#__________\n",
    "# Using strftime method to convert dates into \"str\"\n",
    "yesterday = datetime.now().date() - timedelta(1) \n",
    "yesterday_str = yesterday.strftime(\"%Y-%d-%m\")\n",
    "yesterday_str\n",
    "\n",
    "#________\n",
    "# OR we could convert \"str\" to date objeects \n",
    "tomorrow_str = str(datetime.now().date()) \n",
    "new_date = datetime.strptime(tomorrow_str, \"%Y-%m-%d\") \n",
    "new_date"
   ]
  },
  {
   "cell_type": "markdown",
   "metadata": {},
   "source": [
    "#### - datetime.strptime() is the best method to convert strings to dates. However, you will need to specify the format you want every time. \n",
    "#### - To save yourself from this, you can use \"parse\" a method from \"dateutil.parser\" \n",
    "#### - This is illustrated below."
   ]
  },
  {
   "cell_type": "code",
   "execution_count": 6,
   "metadata": {},
   "outputs": [
    {
     "data": {
      "text/plain": [
       "datetime.datetime(2024, 4, 17, 0, 0)"
      ]
     },
     "execution_count": 6,
     "metadata": {},
     "output_type": "execute_result"
    }
   ],
   "source": [
    "from dateutil.parser import parse \n",
    "\n",
    "# Converting a string to a date using parser.parse\n",
    "some_date = parse(\"2024-12-31\") \n",
    "some_date # Gives datetime.datetime(2024, 12, 31, 0, 0) \n",
    "\n",
    "# The method can also understand other humananized formats \n",
    "some_format = \"Jan 31 2024\"\n",
    "converted_format = parse(some_format)\n",
    "converted_format # Gives datetime.datetime(2024, 1, 31, 0, 0)\n",
    "\n",
    "# Some date formats are known to begin with the day and not the year e.g., 6/12/2024 \n",
    "# In such a case, we have include the parameter \"dayfirst=True\"\n",
    "sample_date = \"17/04/2024\" \n",
    "new_sample_date1 = parse(sample_date, dayfirst=True) \n",
    "new_sample_date1"
   ]
  },
  {
   "cell_type": "markdown",
   "metadata": {},
   "source": [
    "## Working with Dates in Pandas \n",
    "#### - Pandas provides a method for working with any kind of date representation, that is, \"pd.to_datetime()\""
   ]
  },
  {
   "cell_type": "code",
   "execution_count": 15,
   "metadata": {},
   "outputs": [
    {
     "data": {
      "text/plain": [
       "DatetimeIndex(['2010-01-01', '2011-01-01', '2012-01-01'], dtype='datetime64[ns]', freq=None)"
      ]
     },
     "execution_count": 15,
     "metadata": {},
     "output_type": "execute_result"
    }
   ],
   "source": [
    "date_strings = [\"2010-01-01\", \"2011-01-01\", \"2012-01-01\"]\n",
    "\n",
    "# Converting date strings to Pandas datetime timeseries objects \n",
    "converted_dates = pd.to_datetime(date_strings) \n",
    "converted_dates"
   ]
  },
  {
   "cell_type": "markdown",
   "metadata": {},
   "source": [
    "## Indexing, Selecting, and Subsetting \n",
    "#### - Time Series behaves the same way when it comes to selecting data based on labels"
   ]
  },
  {
   "cell_type": "code",
   "execution_count": 21,
   "metadata": {},
   "outputs": [
    {
     "data": {
      "text/plain": [
       "-0.32045024265613853"
      ]
     },
     "execution_count": 21,
     "metadata": {},
     "output_type": "execute_result"
    }
   ],
   "source": [
    "ts_data = pd.Series(np.random.randn(100), index=pd.date_range(\"2010-01-01\", periods=100))\n",
    "\n",
    "# Accessing the data \n",
    "stamp = \"2010-01-01\" \n",
    "ts_data[stamp]"
   ]
  },
  {
   "cell_type": "code",
   "execution_count": 27,
   "metadata": {},
   "outputs": [
    {
     "data": {
      "text/plain": [
       "2010-01-01   -0.320450\n",
       "2010-01-02   -0.045666\n",
       "2010-01-03    0.058494\n",
       "2010-01-04    1.425877\n",
       "2010-01-05   -1.024264\n",
       "Freq: D, dtype: float64"
      ]
     },
     "execution_count": 27,
     "metadata": {},
     "output_type": "execute_result"
    }
   ],
   "source": [
    "# A peek at the data\n",
    "ts_data.head()"
   ]
  },
  {
   "cell_type": "code",
   "execution_count": 25,
   "metadata": {},
   "outputs": [
    {
     "data": {
      "text/plain": [
       "2010-04-01    0.783298\n",
       "2010-04-02   -1.390276\n",
       "2010-04-03   -0.649710\n",
       "2010-04-04   -0.066595\n",
       "2010-04-05    1.311498\n",
       "2010-04-06   -1.269972\n",
       "2010-04-07    0.426320\n",
       "2010-04-08    0.247867\n",
       "2010-04-09    0.195976\n",
       "2010-04-10   -0.689576\n",
       "Freq: D, dtype: float64"
      ]
     },
     "execution_count": 25,
     "metadata": {},
     "output_type": "execute_result"
    }
   ],
   "source": [
    "# We can also use a year, or a year plus a month to access slices of data \n",
    "ts_data[\"20100202\"] # 0.09856160523919853\n",
    "\n",
    "ts_data[\"2010-04\"] # Gives a slice for April "
   ]
  },
  {
   "cell_type": "markdown",
   "metadata": {},
   "source": [
    "### Slicing with dates works as with regular Series \n",
    "\n"
   ]
  },
  {
   "cell_type": "code",
   "execution_count": 32,
   "metadata": {},
   "outputs": [
    {
     "data": {
      "text/plain": [
       "2010-01-01   -0.320450\n",
       "2010-01-02   -0.045666\n",
       "2010-01-03    0.058494\n",
       "2010-01-04    1.425877\n",
       "2010-01-05   -1.024264\n",
       "2010-01-06    0.349630\n",
       "2010-01-07    0.915598\n",
       "2010-01-08   -0.229859\n",
       "2010-01-09    0.094757\n",
       "2010-01-10    1.720054\n",
       "2010-01-11    0.815785\n",
       "2010-01-12   -1.618623\n",
       "2010-01-13   -0.320470\n",
       "2010-01-14    0.729197\n",
       "2010-01-15   -0.418456\n",
       "2010-01-16    0.121967\n",
       "2010-01-17   -0.165328\n",
       "2010-01-18   -0.250537\n",
       "2010-01-19    0.835185\n",
       "2010-01-20    1.203273\n",
       "2010-01-21    2.229024\n",
       "2010-01-22   -0.324681\n",
       "2010-01-23   -0.814178\n",
       "2010-01-24    0.830890\n",
       "2010-01-25   -0.297994\n",
       "2010-01-26    0.319386\n",
       "2010-01-27   -0.332036\n",
       "2010-01-28   -1.027967\n",
       "2010-01-29    0.439827\n",
       "2010-01-30    1.321640\n",
       "2010-01-31   -0.583149\n",
       "Freq: D, dtype: float64"
      ]
     },
     "execution_count": 32,
     "metadata": {},
     "output_type": "execute_result"
    }
   ],
   "source": [
    "# Gets the record for the month of Jan 2010 only\n",
    "ts_data[\"2010-01-01\":\"2010-01-31\"]"
   ]
  },
  {
   "cell_type": "markdown",
   "metadata": {},
   "source": [
    "### The same applies if we are working with a DataFrame"
   ]
  },
  {
   "cell_type": "code",
   "execution_count": 35,
   "metadata": {},
   "outputs": [
    {
     "data": {
      "text/html": [
       "<div>\n",
       "<style scoped>\n",
       "    .dataframe tbody tr th:only-of-type {\n",
       "        vertical-align: middle;\n",
       "    }\n",
       "\n",
       "    .dataframe tbody tr th {\n",
       "        vertical-align: top;\n",
       "    }\n",
       "\n",
       "    .dataframe thead th {\n",
       "        text-align: right;\n",
       "    }\n",
       "</style>\n",
       "<table border=\"1\" class=\"dataframe\">\n",
       "  <thead>\n",
       "    <tr style=\"text-align: right;\">\n",
       "      <th></th>\n",
       "      <th>Nairobi</th>\n",
       "      <th>Nakuru</th>\n",
       "      <th>Mombassa</th>\n",
       "      <th>Kisumu</th>\n",
       "    </tr>\n",
       "  </thead>\n",
       "  <tbody>\n",
       "    <tr>\n",
       "      <th>2024-01-01</th>\n",
       "      <td>0.185666</td>\n",
       "      <td>-0.356636</td>\n",
       "      <td>-0.258443</td>\n",
       "      <td>0.906677</td>\n",
       "    </tr>\n",
       "    <tr>\n",
       "      <th>2024-01-02</th>\n",
       "      <td>-0.995455</td>\n",
       "      <td>0.411399</td>\n",
       "      <td>0.055577</td>\n",
       "      <td>-1.151458</td>\n",
       "    </tr>\n",
       "    <tr>\n",
       "      <th>2024-01-03</th>\n",
       "      <td>0.088252</td>\n",
       "      <td>0.730981</td>\n",
       "      <td>-1.057109</td>\n",
       "      <td>0.521861</td>\n",
       "    </tr>\n",
       "    <tr>\n",
       "      <th>2024-01-04</th>\n",
       "      <td>-0.784926</td>\n",
       "      <td>-2.022647</td>\n",
       "      <td>0.247708</td>\n",
       "      <td>0.120709</td>\n",
       "    </tr>\n",
       "    <tr>\n",
       "      <th>2024-01-05</th>\n",
       "      <td>1.607078</td>\n",
       "      <td>0.741018</td>\n",
       "      <td>0.268835</td>\n",
       "      <td>-0.058900</td>\n",
       "    </tr>\n",
       "  </tbody>\n",
       "</table>\n",
       "</div>"
      ],
      "text/plain": [
       "             Nairobi    Nakuru  Mombassa    Kisumu\n",
       "2024-01-01  0.185666 -0.356636 -0.258443  0.906677\n",
       "2024-01-02 -0.995455  0.411399  0.055577 -1.151458\n",
       "2024-01-03  0.088252  0.730981 -1.057109  0.521861\n",
       "2024-01-04 -0.784926 -2.022647  0.247708  0.120709\n",
       "2024-01-05  1.607078  0.741018  0.268835 -0.058900"
      ]
     },
     "execution_count": 35,
     "metadata": {},
     "output_type": "execute_result"
    }
   ],
   "source": [
    "data_df = pd.DataFrame(\n",
    "    data=np.random.randn(50, 4),\n",
    "    index=pd.date_range(\"2024-01-01\", periods=50),\n",
    "    columns=[\"Nairobi\", \"Nakuru\", \"Mombassa\", \"Kisumu\"]\n",
    ") \n",
    "\n",
    "data_df.head()"
   ]
  },
  {
   "cell_type": "code",
   "execution_count": 38,
   "metadata": {},
   "outputs": [
    {
     "data": {
      "text/html": [
       "<div>\n",
       "<style scoped>\n",
       "    .dataframe tbody tr th:only-of-type {\n",
       "        vertical-align: middle;\n",
       "    }\n",
       "\n",
       "    .dataframe tbody tr th {\n",
       "        vertical-align: top;\n",
       "    }\n",
       "\n",
       "    .dataframe thead th {\n",
       "        text-align: right;\n",
       "    }\n",
       "</style>\n",
       "<table border=\"1\" class=\"dataframe\">\n",
       "  <thead>\n",
       "    <tr style=\"text-align: right;\">\n",
       "      <th></th>\n",
       "      <th>Nairobi</th>\n",
       "      <th>Nakuru</th>\n",
       "      <th>Mombassa</th>\n",
       "    </tr>\n",
       "  </thead>\n",
       "  <tbody>\n",
       "    <tr>\n",
       "      <th>2024-01-01</th>\n",
       "      <td>0.185666</td>\n",
       "      <td>-0.356636</td>\n",
       "      <td>-0.258443</td>\n",
       "    </tr>\n",
       "    <tr>\n",
       "      <th>2024-01-02</th>\n",
       "      <td>-0.995455</td>\n",
       "      <td>0.411399</td>\n",
       "      <td>0.055577</td>\n",
       "    </tr>\n",
       "    <tr>\n",
       "      <th>2024-01-03</th>\n",
       "      <td>0.088252</td>\n",
       "      <td>0.730981</td>\n",
       "      <td>-1.057109</td>\n",
       "    </tr>\n",
       "    <tr>\n",
       "      <th>2024-01-04</th>\n",
       "      <td>-0.784926</td>\n",
       "      <td>-2.022647</td>\n",
       "      <td>0.247708</td>\n",
       "    </tr>\n",
       "    <tr>\n",
       "      <th>2024-01-05</th>\n",
       "      <td>1.607078</td>\n",
       "      <td>0.741018</td>\n",
       "      <td>0.268835</td>\n",
       "    </tr>\n",
       "    <tr>\n",
       "      <th>2024-01-06</th>\n",
       "      <td>1.361889</td>\n",
       "      <td>-0.498457</td>\n",
       "      <td>0.441342</td>\n",
       "    </tr>\n",
       "    <tr>\n",
       "      <th>2024-01-07</th>\n",
       "      <td>1.146457</td>\n",
       "      <td>1.965574</td>\n",
       "      <td>-1.362441</td>\n",
       "    </tr>\n",
       "    <tr>\n",
       "      <th>2024-01-08</th>\n",
       "      <td>-2.249170</td>\n",
       "      <td>-0.120869</td>\n",
       "      <td>-0.906196</td>\n",
       "    </tr>\n",
       "    <tr>\n",
       "      <th>2024-01-09</th>\n",
       "      <td>-0.690384</td>\n",
       "      <td>0.625545</td>\n",
       "      <td>0.581830</td>\n",
       "    </tr>\n",
       "    <tr>\n",
       "      <th>2024-01-10</th>\n",
       "      <td>-0.914906</td>\n",
       "      <td>-0.810188</td>\n",
       "      <td>1.697702</td>\n",
       "    </tr>\n",
       "  </tbody>\n",
       "</table>\n",
       "</div>"
      ],
      "text/plain": [
       "             Nairobi    Nakuru  Mombassa\n",
       "2024-01-01  0.185666 -0.356636 -0.258443\n",
       "2024-01-02 -0.995455  0.411399  0.055577\n",
       "2024-01-03  0.088252  0.730981 -1.057109\n",
       "2024-01-04 -0.784926 -2.022647  0.247708\n",
       "2024-01-05  1.607078  0.741018  0.268835\n",
       "2024-01-06  1.361889 -0.498457  0.441342\n",
       "2024-01-07  1.146457  1.965574 -1.362441\n",
       "2024-01-08 -2.249170 -0.120869 -0.906196\n",
       "2024-01-09 -0.690384  0.625545  0.581830\n",
       "2024-01-10 -0.914906 -0.810188  1.697702"
      ]
     },
     "execution_count": 38,
     "metadata": {},
     "output_type": "execute_result"
    }
   ],
   "source": [
    "data_df[\"20240101\":\"20240131\"] # Returns a slice for the month of Jan 2024 \n",
    "\n",
    "# OR We could use loc/iloc \n",
    "data_df.loc[\"20240101\":\"20240110\", \"Nairobi\":\"Mombassa\"]"
   ]
  },
  {
   "cell_type": "code",
   "execution_count": null,
   "metadata": {},
   "outputs": [],
   "source": []
  }
 ],
 "metadata": {
  "kernelspec": {
   "display_name": "env",
   "language": "python",
   "name": "python3"
  },
  "language_info": {
   "codemirror_mode": {
    "name": "ipython",
    "version": 3
   },
   "file_extension": ".py",
   "mimetype": "text/x-python",
   "name": "python",
   "nbconvert_exporter": "python",
   "pygments_lexer": "ipython3",
   "version": "3.11.2"
  }
 },
 "nbformat": 4,
 "nbformat_minor": 2
}
